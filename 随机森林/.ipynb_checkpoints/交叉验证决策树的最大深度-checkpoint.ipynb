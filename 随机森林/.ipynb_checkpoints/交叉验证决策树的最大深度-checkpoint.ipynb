{
 "cells": [
  {
   "cell_type": "code",
   "execution_count": 1,
   "id": "638ef337",
   "metadata": {},
   "outputs": [
    {
     "name": "stdout",
     "output_type": "stream",
     "text": [
      "Best max depth: 13\n",
      "Best score: 312730.83831194224\n"
     ]
    }
   ],
   "source": [
    "import numpy as np\n",
    "import pandas as pd\n",
    "import matplotlib.pyplot as plt\n",
    "from sklearn.ensemble import RandomForestRegressor\n",
    "from sklearn.model_selection import GridSearchCV\n",
    "from sklearn.model_selection import cross_val_score\n",
    "plt.rcParams['font.family'] = 'SimSun'\n",
    "data = pd.read_csv('../newData.csv',encoding='gbk')\n",
    "\n",
    "# 提取特征和目标变量\n",
    "X = data[['月份', '日期', '星期几', '季节', '节假日']]\n",
    "y = data['航线金额']\n",
    "\n",
    "# 定义决策树的最大深度的范围\n",
    "max_depths = range(1, 21)\n",
    "\n",
    "# 定义随机森林回归模型\n",
    "rf_model = RandomForestRegressor(n_estimators=140, random_state=42)\n",
    "\n",
    "# 定义参数网格\n",
    "param_grid = {'max_depth': max_depths}\n",
    "\n",
    "# 使用网格搜索选择最佳决策树最大深度\n",
    "grid_search = GridSearchCV(estimator=rf_model, param_grid=param_grid, cv=5, scoring='neg_mean_squared_error')\n",
    "grid_search.fit(X, y)\n",
    "\n",
    "# 打印最佳决策树最大深度和对应的得分\n",
    "best_max_depth = grid_search.best_params_['max_depth']\n",
    "best_score = np.sqrt(-grid_search.best_score_)\n",
    "print(\"Best max depth:\", best_max_depth)\n",
    "print(\"Best score:\", best_score)"
   ]
  }
 ],
 "metadata": {
  "kernelspec": {
   "display_name": "Python [conda env:datawym]",
   "language": "python",
   "name": "conda-env-datawym-py"
  },
  "language_info": {
   "codemirror_mode": {
    "name": "ipython",
    "version": 3
   },
   "file_extension": ".py",
   "mimetype": "text/x-python",
   "name": "python",
   "nbconvert_exporter": "python",
   "pygments_lexer": "ipython3",
   "version": "3.12.1"
  }
 },
 "nbformat": 4,
 "nbformat_minor": 5
}
