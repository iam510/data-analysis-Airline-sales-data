{
 "cells": [
  {
   "cell_type": "code",
   "execution_count": 2,
   "id": "224f8908",
   "metadata": {},
   "outputs": [
    {
     "name": "stderr",
     "output_type": "stream",
     "text": [
      "D:\\anaconda\\envs\\datawym\\Lib\\site-packages\\statsmodels\\tsa\\base\\tsa_model.py:473: ValueWarning: No frequency information was provided, so inferred frequency D will be used.\n",
      "  self._init_dates(dates, freq)\n",
      "D:\\anaconda\\envs\\datawym\\Lib\\site-packages\\statsmodels\\tsa\\base\\tsa_model.py:473: ValueWarning: No frequency information was provided, so inferred frequency D will be used.\n",
      "  self._init_dates(dates, freq)\n",
      "D:\\anaconda\\envs\\datawym\\Lib\\site-packages\\statsmodels\\tsa\\base\\tsa_model.py:473: ValueWarning: No frequency information was provided, so inferred frequency D will be used.\n",
      "  self._init_dates(dates, freq)\n",
      "D:\\anaconda\\envs\\datawym\\Lib\\site-packages\\statsmodels\\tsa\\base\\tsa_model.py:473: ValueWarning: No frequency information was provided, so inferred frequency D will be used.\n",
      "  self._init_dates(dates, freq)\n",
      "D:\\anaconda\\envs\\datawym\\Lib\\site-packages\\statsmodels\\tsa\\base\\tsa_model.py:473: ValueWarning: No frequency information was provided, so inferred frequency D will be used.\n",
      "  self._init_dates(dates, freq)\n",
      "D:\\anaconda\\envs\\datawym\\Lib\\site-packages\\statsmodels\\tsa\\base\\tsa_model.py:473: ValueWarning: No frequency information was provided, so inferred frequency D will be used.\n",
      "  self._init_dates(dates, freq)\n",
      "D:\\anaconda\\envs\\datawym\\Lib\\site-packages\\statsmodels\\tsa\\base\\tsa_model.py:473: ValueWarning: No frequency information was provided, so inferred frequency D will be used.\n",
      "  self._init_dates(dates, freq)\n",
      "D:\\anaconda\\envs\\datawym\\Lib\\site-packages\\statsmodels\\tsa\\base\\tsa_model.py:473: ValueWarning: No frequency information was provided, so inferred frequency D will be used.\n",
      "  self._init_dates(dates, freq)\n",
      "D:\\anaconda\\envs\\datawym\\Lib\\site-packages\\statsmodels\\tsa\\base\\tsa_model.py:473: ValueWarning: No frequency information was provided, so inferred frequency D will be used.\n",
      "  self._init_dates(dates, freq)\n",
      "D:\\anaconda\\envs\\datawym\\Lib\\site-packages\\statsmodels\\tsa\\base\\tsa_model.py:473: ValueWarning: No frequency information was provided, so inferred frequency D will be used.\n",
      "  self._init_dates(dates, freq)\n",
      "D:\\anaconda\\envs\\datawym\\Lib\\site-packages\\statsmodels\\tsa\\base\\tsa_model.py:473: ValueWarning: No frequency information was provided, so inferred frequency D will be used.\n",
      "  self._init_dates(dates, freq)\n",
      "D:\\anaconda\\envs\\datawym\\Lib\\site-packages\\statsmodels\\tsa\\base\\tsa_model.py:473: ValueWarning: No frequency information was provided, so inferred frequency D will be used.\n",
      "  self._init_dates(dates, freq)\n",
      "D:\\anaconda\\envs\\datawym\\Lib\\site-packages\\statsmodels\\tsa\\base\\tsa_model.py:473: ValueWarning: No frequency information was provided, so inferred frequency D will be used.\n",
      "  self._init_dates(dates, freq)\n",
      "D:\\anaconda\\envs\\datawym\\Lib\\site-packages\\statsmodels\\tsa\\base\\tsa_model.py:473: ValueWarning: No frequency information was provided, so inferred frequency D will be used.\n",
      "  self._init_dates(dates, freq)\n",
      "D:\\anaconda\\envs\\datawym\\Lib\\site-packages\\statsmodels\\tsa\\base\\tsa_model.py:473: ValueWarning: No frequency information was provided, so inferred frequency D will be used.\n",
      "  self._init_dates(dates, freq)\n",
      "D:\\anaconda\\envs\\datawym\\Lib\\site-packages\\statsmodels\\tsa\\base\\tsa_model.py:473: ValueWarning: No frequency information was provided, so inferred frequency D will be used.\n",
      "  self._init_dates(dates, freq)\n"
     ]
    },
    {
     "name": "stdout",
     "output_type": "stream",
     "text": [
      "Best Seasonal Order: (0, 1, 1, 12)\n"
     ]
    }
   ],
   "source": [
    "import itertools\n",
    "import pandas as pd\n",
    "import statsmodels.api as sm\n",
    "\n",
    "# 读取数据\n",
    "data = pd.read_csv('data.csv',encoding='gbk')\n",
    "\n",
    "# 将日期列转换为日期时间类型\n",
    "data['航班日期'] = pd.to_datetime(data['航班日期'])\n",
    "\n",
    "# 将日期列设置为索引\n",
    "data.set_index('航班日期', inplace=True)\n",
    "\n",
    "# 定义季节性阶数的范围\n",
    "p = d = q = range(0, 2)\n",
    "seasonal_pdq = [(x[0], x[1], x[2], 12) for x in list(itertools.product(p, d, q))]\n",
    "\n",
    "# 寻找最佳季节性阶数\n",
    "best_aic = float(\"inf\")\n",
    "best_seasonal_order = None\n",
    "\n",
    "for param in seasonal_pdq:\n",
    "    try:\n",
    "        model = sm.tsa.SARIMAX(data['航线金额'], order=(1, 1, 1), seasonal_order=param)\n",
    "        results = model.fit()\n",
    "        \n",
    "        if results.aic < best_aic:\n",
    "            best_aic = results.aic\n",
    "            best_seasonal_order = param\n",
    "    except:\n",
    "        continue\n",
    "\n",
    "print(\"Best Seasonal Order:\", best_seasonal_order)"
   ]
  },
  {
   "cell_type": "code",
   "execution_count": null,
   "id": "d743bb20",
   "metadata": {},
   "outputs": [],
   "source": []
  }
 ],
 "metadata": {
  "kernelspec": {
   "display_name": "Python [conda env:datawym]",
   "language": "python",
   "name": "conda-env-datawym-py"
  },
  "language_info": {
   "codemirror_mode": {
    "name": "ipython",
    "version": 3
   },
   "file_extension": ".py",
   "mimetype": "text/x-python",
   "name": "python",
   "nbconvert_exporter": "python",
   "pygments_lexer": "ipython3",
   "version": "3.12.1"
  }
 },
 "nbformat": 4,
 "nbformat_minor": 5
}
