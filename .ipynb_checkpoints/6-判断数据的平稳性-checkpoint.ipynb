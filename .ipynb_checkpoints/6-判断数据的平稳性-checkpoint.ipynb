{
 "cells": [
  {
   "cell_type": "code",
   "execution_count": 2,
   "id": "1ef546c4",
   "metadata": {},
   "outputs": [
    {
     "name": "stdout",
     "output_type": "stream",
     "text": [
      "ADF p-value: 0.2097850995366165\n",
      "KPSS p-value: 0.01\n"
     ]
    },
    {
     "name": "stderr",
     "output_type": "stream",
     "text": [
      "C:\\Users\\510\\AppData\\Local\\Temp\\ipykernel_31200\\3797843963.py:16: InterpolationWarning: The test statistic is outside of the range of p-values available in the\n",
      "look-up table. The actual p-value is smaller than the p-value returned.\n",
      "\n",
      "  kpss_result = kpss(time_series)\n"
     ]
    }
   ],
   "source": [
    "import pandas as pd\n",
    "from statsmodels.tsa.stattools import adfuller, kpss\n",
    "\n",
    "# 读取数据\n",
    "data = pd.read_csv('data.csv',encoding='gbk')\n",
    "\n",
    "# 提取航线金额列作为时间序列数据\n",
    "time_series = data['航线金额']\n",
    "\n",
    "# ADF检验\n",
    "adf_result = adfuller(time_series)\n",
    "adf_pvalue = adf_result[1]\n",
    "print(\"ADF p-value:\", adf_pvalue)\n",
    "\n",
    "# KPSS检验\n",
    "kpss_result = kpss(time_series)\n",
    "kpss_pvalue = kpss_result[1]\n",
    "print(\"KPSS p-value:\", kpss_pvalue)"
   ]
  },
  {
   "cell_type": "markdown",
   "id": "e67681b4",
   "metadata": {},
   "source": [
    "数据没有平稳性！\n",
    "\n",
    "- ADF检验：根据ADF检验的p值（adf_pvalue），如果p值小于显著性水平（通常为0.05），则可以拒绝原假设（数据具有单位根，即非平稳性），并认为数据是平稳的。在这种情况下，p值为0.2098大于0.05，因此无法拒绝原假设，不能确定数据是平稳的。\n",
    "\n",
    "- KPSS检验：根据KPSS检验的p值（kpss_pvalue），如果p值小于显著性水平（通常为0.05），则可以拒绝原假设（数据是平稳的），并认为数据具有非平稳性。在这种情况下，p值为0.01小于0.05，因此可以拒绝原假设，认为数据具有非平稳性。"
   ]
  }
 ],
 "metadata": {
  "kernelspec": {
   "display_name": "Python [conda env:datawym]",
   "language": "python",
   "name": "conda-env-datawym-py"
  },
  "language_info": {
   "codemirror_mode": {
    "name": "ipython",
    "version": 3
   },
   "file_extension": ".py",
   "mimetype": "text/x-python",
   "name": "python",
   "nbconvert_exporter": "python",
   "pygments_lexer": "ipython3",
   "version": "3.12.1"
  }
 },
 "nbformat": 4,
 "nbformat_minor": 5
}
