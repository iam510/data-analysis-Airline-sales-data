{
 "cells": [
  {
   "cell_type": "code",
   "execution_count": 1,
   "id": "2f6876d3",
   "metadata": {},
   "outputs": [
    {
     "ename": "ModuleNotFoundError",
     "evalue": "No module named 'tensorflow.python.keras.wrappers'",
     "output_type": "error",
     "traceback": [
      "\u001b[1;31m---------------------------------------------------------------------------\u001b[0m",
      "\u001b[1;31mModuleNotFoundError\u001b[0m                       Traceback (most recent call last)",
      "Cell \u001b[1;32mIn[1], line 5\u001b[0m\n\u001b[0;32m      3\u001b[0m \u001b[38;5;28;01mfrom\u001b[39;00m \u001b[38;5;21;01mkeras\u001b[39;00m\u001b[38;5;21;01m.\u001b[39;00m\u001b[38;5;21;01mmodels\u001b[39;00m \u001b[38;5;28;01mimport\u001b[39;00m Sequential\n\u001b[0;32m      4\u001b[0m \u001b[38;5;28;01mfrom\u001b[39;00m \u001b[38;5;21;01mkeras\u001b[39;00m\u001b[38;5;21;01m.\u001b[39;00m\u001b[38;5;21;01mlayers\u001b[39;00m \u001b[38;5;28;01mimport\u001b[39;00m LSTM, Dense\n\u001b[1;32m----> 5\u001b[0m \u001b[38;5;28;01mfrom\u001b[39;00m \u001b[38;5;21;01mtensorflow\u001b[39;00m\u001b[38;5;21;01m.\u001b[39;00m\u001b[38;5;21;01mpython\u001b[39;00m\u001b[38;5;21;01m.\u001b[39;00m\u001b[38;5;21;01mkeras\u001b[39;00m\u001b[38;5;21;01m.\u001b[39;00m\u001b[38;5;21;01mwrappers\u001b[39;00m\u001b[38;5;21;01m.\u001b[39;00m\u001b[38;5;21;01mscikit_learn\u001b[39;00m \u001b[38;5;28;01mimport\u001b[39;00m KerasRegressor\n\u001b[0;32m      6\u001b[0m plt\u001b[38;5;241m.\u001b[39mrcParams[\u001b[38;5;124m'\u001b[39m\u001b[38;5;124mfont.family\u001b[39m\u001b[38;5;124m'\u001b[39m] \u001b[38;5;241m=\u001b[39m \u001b[38;5;124m'\u001b[39m\u001b[38;5;124mSimSun\u001b[39m\u001b[38;5;124m'\u001b[39m\n\u001b[0;32m      7\u001b[0m data \u001b[38;5;241m=\u001b[39m pd\u001b[38;5;241m.\u001b[39mread_csv(\u001b[38;5;124m'\u001b[39m\u001b[38;5;124m../newData.csv\u001b[39m\u001b[38;5;124m'\u001b[39m,encoding\u001b[38;5;241m=\u001b[39m\u001b[38;5;124m'\u001b[39m\u001b[38;5;124mgbk\u001b[39m\u001b[38;5;124m'\u001b[39m)\n",
      "\u001b[1;31mModuleNotFoundError\u001b[0m: No module named 'tensorflow.python.keras.wrappers'"
     ]
    }
   ],
   "source": [
    "import numpy as np\n",
    "from sklearn.model_selection import GridSearchCV\n",
    "from keras.models import Sequential\n",
    "from keras.layers import LSTM, Dense\n",
    "from tensorflow.python.keras.wrappers.scikit_learn import KerasRegressor\n",
    "plt.rcParams['font.family'] = 'SimSun'\n",
    "data = pd.read_csv('../newData.csv',encoding='gbk')\n",
    "\n",
    "# 转换日期特征为数值型\n",
    "data['航班日期'] = pd.to_datetime(data['航班日期'])\n",
    "data['航班日期'] = (data['航班日期'] - data['航班日期'].min()).dt.days\n",
    "\n",
    "# 提取特征和标签\n",
    "X = data[['航班日期', '月份', '日期', '星期几', '季节', '节假日']].values\n",
    "y = data['航线金额'].values\n",
    "\n",
    "# 归一化特征数据\n",
    "scaler = MinMaxScaler()\n",
    "X_scaled = scaler.fit_transform(X)\n",
    "\n",
    "# 划分训练集和验证集\n",
    "train_size = int(0.8 * len(data))  # 使用 80% 的数据作为训练集\n",
    "X_train = X_scaled[:train_size]\n",
    "y_train = y[:train_size]\n",
    "X_val = X_scaled[train_size:]\n",
    "y_val = y[train_size:]\n",
    "\n",
    "# 转换数据为三维输入形状\n",
    "time_steps = 7  # 使用过去 7 天的数据作为输入\n",
    "num_features = X.shape[1]\n",
    "X_3d = np.reshape(X, (X.shape[0], time_steps, num_features))\n",
    "\n",
    "# 创建 LSTM 模型\n",
    "def create_lstm_model(units, dropout_rate):\n",
    "    model = Sequential()\n",
    "    model.add(LSTM(units=units, dropout=dropout_rate, input_shape=(time_steps, num_features)))\n",
    "    model.add(Dense(1))  # 回归任务，输出为单个值\n",
    "    model.compile(loss='mean_squared_error', optimizer='adam')\n",
    "    return model\n",
    "\n",
    "# 定义参数空间\n",
    "param_grid = {\n",
    "    'units': [32, 64, 128],  # LSTM 层的单元数\n",
    "    'dropout_rate': [0.0, 0.2, 0.4],  # dropout 比率\n",
    "}\n",
    "\n",
    "# 创建 LSTM 模型\n",
    "lstm_model = KerasRegressor(build_fn=create_lstm_model, epochs=10, batch_size=32, verbose=0)\n",
    "\n",
    "# 使用网格搜索寻找最佳参数组合\n",
    "grid = GridSearchCV(estimator=lstm_model, param_grid=param_grid, cv=3)\n",
    "grid_result = grid.fit(X_3d, y)\n",
    "\n",
    "# 打印最佳参数组合和得分\n",
    "print(\"Best Parameters: \", grid_result.best_params_)\n",
    "print(\"Best Score: \", grid_result.best_score_)"
   ]
  },
  {
   "cell_type": "markdown",
   "id": "e05fe345",
   "metadata": {},
   "source": [
    "出问题：找不到KerasRegressor，可能是tensorflow版本的问题，未解决。"
   ]
  }
 ],
 "metadata": {
  "kernelspec": {
   "display_name": "Python [conda env:datawym]",
   "language": "python",
   "name": "conda-env-datawym-py"
  },
  "language_info": {
   "codemirror_mode": {
    "name": "ipython",
    "version": 3
   },
   "file_extension": ".py",
   "mimetype": "text/x-python",
   "name": "python",
   "nbconvert_exporter": "python",
   "pygments_lexer": "ipython3",
   "version": "3.12.1"
  }
 },
 "nbformat": 4,
 "nbformat_minor": 5
}
